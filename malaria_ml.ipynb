{
  "nbformat": 4,
  "nbformat_minor": 0,
  "metadata": {
    "colab": {
      "name": "malaria_ml.ipynb",
      "provenance": [],
      "collapsed_sections": []
    },
    "kernelspec": {
      "name": "python3",
      "display_name": "Python 3"
    },
    "language_info": {
      "name": "python"
    }
  },
  "cells": [
    {
      "cell_type": "code",
      "source": [
        "import pandas as pd\n",
        "from sklearn.model_selection import train_test_split\n",
        "from sklearn.ensemble import RandomForestClassifier, AdaBoostClassifier\n",
        "from sklearn import metrics\n",
        "import joblib\n",
        "\n",
        "##Step1: Load Dataset\n",
        "\n",
        "dataframe = pd.read_csv(\"/dataset.csv\")\n",
        "#print(dataframe.head())\n",
        "\n",
        "#Step2: Split into training and test data\n",
        "x = dataframe.drop([\"Label\"],axis=1)\n",
        "y = dataframe[\"Label\"]\n",
        "x_train, x_test, y_train, y_test = train_test_split(x,y,test_size=0.2,random_state=42)\n",
        "\n",
        "##Step4: Build a model\n",
        "\n",
        "model = RandomForestClassifier(n_estimators=100,max_depth=5)\n",
        "model.fit(x_train,y_train)\n",
        "joblib.dump(model,\"rf_malaria_100_5\")\n",
        "\n",
        "\n",
        "##Step5: Make predictions and get classification report\n",
        "\n",
        "predictions = model.predict(x_test)\n",
        "\n",
        "print(metrics.classification_report(predictions,y_test))\n",
        "print(model.score(x_test,y_test))"
      ],
      "metadata": {
        "colab": {
          "base_uri": "https://localhost:8080/"
        },
        "id": "Dp8sU4KsHpWE",
        "outputId": "bd94370a-a0c5-4c7c-b3a2-93a270241807"
      },
      "execution_count": 6,
      "outputs": [
        {
          "output_type": "stream",
          "name": "stdout",
          "text": [
            "              precision    recall  f1-score   support\n",
            "\n",
            " Parasitized       0.90      0.90      0.90      2771\n",
            "  Uninfected       0.90      0.89      0.90      2741\n",
            "\n",
            "    accuracy                           0.90      5512\n",
            "   macro avg       0.90      0.90      0.90      5512\n",
            "weighted avg       0.90      0.90      0.90      5512\n",
            "\n",
            "0.898766328011611\n"
          ]
        }
      ]
    }
  ]
}